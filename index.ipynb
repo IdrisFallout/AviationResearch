{
 "cells": [
  {
   "cell_type": "markdown",
   "id": "4e5404ba-0e0b-4ee1-ae9f-6eb74e2fc6c4",
   "metadata": {},
   "source": [
    "# Aviation Accident Database & Synopses, up to 2023"
   ]
  },
  {
   "cell_type": "markdown",
   "id": "d30933fc-c105-4a49-97cb-b05a17cb79ff",
   "metadata": {},
   "source": [
    "## About Dataset"
   ]
  },
  {
   "cell_type": "markdown",
   "id": "004382e6-448c-481b-90b7-e0838ee30713",
   "metadata": {},
   "source": [
    "### Content"
   ]
  },
  {
   "cell_type": "markdown",
   "id": "9c10b3f0-db5b-4847-b402-5ef3c39b2043",
   "metadata": {},
   "source": [
    "The NTSB aviation accident database contains information from 1962 and later about civil aviation accidents and selected incidents within the United States, its territories and possessions, and in international waters."
   ]
  },
  {
   "cell_type": "markdown",
   "id": "59f54b2f-eeba-4c4f-aac5-cacb31c053e0",
   "metadata": {},
   "source": [
    "### Acknowledgements"
   ]
  },
  {
   "cell_type": "markdown",
   "id": "a08e5f06-77b5-4df3-b325-45dd4314fbf7",
   "metadata": {},
   "source": [
    "Generally, a preliminary report is available online within a few days of an accident. Factual information is added when available, and when the investigation is completed, the preliminary report is replaced with a final description of the accident and its probable cause. Full narrative descriptions may not be available for dates before 1993, cases under revision, or where NTSB did not have primary investigative responsibility."
   ]
  },
  {
   "cell_type": "markdown",
   "id": "4fc90ae9-249c-41fd-8a7c-fd5d2cc5bec1",
   "metadata": {},
   "source": [
    "### Inspiration"
   ]
  },
  {
   "cell_type": "markdown",
   "id": "e34bf22c-043c-4f4d-b44c-8bbde1187503",
   "metadata": {},
   "source": [
    "Hope it will teach us how to improve the quality and safety of traveling by Airplane."
   ]
  },
  {
   "cell_type": "code",
   "execution_count": null,
   "id": "856f95ec-6ed4-4820-84b1-e213bf67a9a7",
   "metadata": {},
   "outputs": [],
   "source": []
  }
 ],
 "metadata": {
  "kernelspec": {
   "display_name": "Python 3 (ipykernel)",
   "language": "python",
   "name": "python3"
  },
  "language_info": {
   "codemirror_mode": {
    "name": "ipython",
    "version": 3
   },
   "file_extension": ".py",
   "mimetype": "text/x-python",
   "name": "python",
   "nbconvert_exporter": "python",
   "pygments_lexer": "ipython3",
   "version": "3.11.6"
  }
 },
 "nbformat": 4,
 "nbformat_minor": 5
}
